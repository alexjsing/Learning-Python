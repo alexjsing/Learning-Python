{
 "cells": [
  {
   "cell_type": "markdown",
   "metadata": {},
   "source": [
    "This dataset from FiveThirtyEight contains information on gun deaths in the US from 2012 to 2014. Each row in the dataset represents a single fatality. The columns contain demographic and other information about the victim. In this project, we'll be analyzing data on gun deaths in the US to find patterns in the demographics of the victims."
   ]
  },
  {
   "cell_type": "code",
   "execution_count": 1,
   "metadata": {},
   "outputs": [
    {
     "data": {
      "text/plain": [
       "[['1',\n",
       "  '2012',\n",
       "  '01',\n",
       "  'Suicide',\n",
       "  '0',\n",
       "  'M',\n",
       "  '34',\n",
       "  'Asian/Pacific Islander',\n",
       "  '100',\n",
       "  'Home',\n",
       "  '4'],\n",
       " ['2', '2012', '01', 'Suicide', '0', 'F', '21', 'White', '100', 'Street', '3'],\n",
       " ['3',\n",
       "  '2012',\n",
       "  '01',\n",
       "  'Suicide',\n",
       "  '0',\n",
       "  'M',\n",
       "  '60',\n",
       "  'White',\n",
       "  '100',\n",
       "  'Other specified',\n",
       "  '4'],\n",
       " ['4', '2012', '02', 'Suicide', '0', 'M', '64', 'White', '100', 'Home', '4']]"
      ]
     },
     "execution_count": 1,
     "metadata": {},
     "output_type": "execute_result"
    }
   ],
   "source": [
    "import csv\n",
    "f = open('guns.csv', 'r')\n",
    "data_header = list(csv.reader(f))\n",
    "data = data_header[1:]\n",
    "data[:4]\n"
   ]
  },
  {
   "cell_type": "markdown",
   "metadata": {},
   "source": [
    "## Gun deaths by year"
   ]
  },
  {
   "cell_type": "code",
   "execution_count": 2,
   "metadata": {},
   "outputs": [
    {
     "data": {
      "text/plain": [
       "[{'2012': 33563, '2013': 33636, '2014': 33599}]"
      ]
     },
     "execution_count": 2,
     "metadata": {},
     "output_type": "execute_result"
    }
   ],
   "source": [
    "years = [row[1] for row in data]\n",
    "year_counts = {}\n",
    "for year in years:\n",
    "    if year in year_counts:\n",
    "        year_counts[year] += 1\n",
    "    else:\n",
    "        year_counts[year] = 1\n",
    "\n",
    "[year_counts]\n",
    "\n"
   ]
  },
  {
   "cell_type": "markdown",
   "metadata": {},
   "source": [
    "## Findings\n",
    "There is little difference from one year to the next."
   ]
  },
  {
   "cell_type": "markdown",
   "metadata": {},
   "source": [
    "## Gun deaths by year and month"
   ]
  },
  {
   "cell_type": "code",
   "execution_count": 3,
   "metadata": {},
   "outputs": [
    {
     "data": {
      "text/plain": [
       "[{datetime.datetime(2012, 1, 1, 0, 0): 2758,\n",
       "  datetime.datetime(2012, 2, 1, 0, 0): 2357,\n",
       "  datetime.datetime(2012, 3, 1, 0, 0): 2743,\n",
       "  datetime.datetime(2012, 4, 1, 0, 0): 2795,\n",
       "  datetime.datetime(2012, 5, 1, 0, 0): 2999,\n",
       "  datetime.datetime(2012, 6, 1, 0, 0): 2826,\n",
       "  datetime.datetime(2012, 7, 1, 0, 0): 3026,\n",
       "  datetime.datetime(2012, 8, 1, 0, 0): 2954,\n",
       "  datetime.datetime(2012, 9, 1, 0, 0): 2852,\n",
       "  datetime.datetime(2012, 10, 1, 0, 0): 2733,\n",
       "  datetime.datetime(2012, 11, 1, 0, 0): 2729,\n",
       "  datetime.datetime(2012, 12, 1, 0, 0): 2791,\n",
       "  datetime.datetime(2013, 1, 1, 0, 0): 2864,\n",
       "  datetime.datetime(2013, 2, 1, 0, 0): 2375,\n",
       "  datetime.datetime(2013, 3, 1, 0, 0): 2862,\n",
       "  datetime.datetime(2013, 4, 1, 0, 0): 2798,\n",
       "  datetime.datetime(2013, 5, 1, 0, 0): 2806,\n",
       "  datetime.datetime(2013, 6, 1, 0, 0): 2920,\n",
       "  datetime.datetime(2013, 7, 1, 0, 0): 3079,\n",
       "  datetime.datetime(2013, 8, 1, 0, 0): 2859,\n",
       "  datetime.datetime(2013, 9, 1, 0, 0): 2742,\n",
       "  datetime.datetime(2013, 10, 1, 0, 0): 2808,\n",
       "  datetime.datetime(2013, 11, 1, 0, 0): 2758,\n",
       "  datetime.datetime(2013, 12, 1, 0, 0): 2765,\n",
       "  datetime.datetime(2014, 1, 1, 0, 0): 2651,\n",
       "  datetime.datetime(2014, 2, 1, 0, 0): 2361,\n",
       "  datetime.datetime(2014, 3, 1, 0, 0): 2684,\n",
       "  datetime.datetime(2014, 4, 1, 0, 0): 2862,\n",
       "  datetime.datetime(2014, 5, 1, 0, 0): 2864,\n",
       "  datetime.datetime(2014, 6, 1, 0, 0): 2931,\n",
       "  datetime.datetime(2014, 7, 1, 0, 0): 2884,\n",
       "  datetime.datetime(2014, 8, 1, 0, 0): 2970,\n",
       "  datetime.datetime(2014, 9, 1, 0, 0): 2914,\n",
       "  datetime.datetime(2014, 10, 1, 0, 0): 2865,\n",
       "  datetime.datetime(2014, 11, 1, 0, 0): 2756,\n",
       "  datetime.datetime(2014, 12, 1, 0, 0): 2857}]"
      ]
     },
     "execution_count": 3,
     "metadata": {},
     "output_type": "execute_result"
    }
   ],
   "source": [
    "import datetime\n",
    "\n",
    "dates = [datetime.datetime(year = int(row[1]), month = int(row[2]), day = 1) for row in data]\n",
    "\n",
    "date_counts = {}\n",
    "for date in dates:\n",
    "    if date in date_counts:\n",
    "        date_counts[date] += 1\n",
    "    else:\n",
    "        date_counts[date] = 1\n",
    "\n",
    "[date_counts]"
   ]
  },
  {
   "cell_type": "markdown",
   "metadata": {},
   "source": [
    "## Gun deaths by sex and race"
   ]
  },
  {
   "cell_type": "code",
   "execution_count": 5,
   "metadata": {},
   "outputs": [
    {
     "data": {
      "text/plain": [
       "[{'F': 14449, 'M': 86349}]"
      ]
     },
     "execution_count": 5,
     "metadata": {},
     "output_type": "execute_result"
    }
   ],
   "source": [
    "sexes = [row[5] for row in data]\n",
    "sex_counts = {}\n",
    "for sex in sexes:\n",
    "    if sex in sex_counts:\n",
    "        sex_counts[sex] += 1\n",
    "    else:\n",
    "        sex_counts[sex] = 1\n",
    "        \n",
    "[sex_counts]"
   ]
  },
  {
   "cell_type": "code",
   "execution_count": 6,
   "metadata": {},
   "outputs": [
    {
     "data": {
      "text/plain": [
       "[{'Asian/Pacific Islander': 1326,\n",
       "  'Black': 23296,\n",
       "  'Hispanic': 9022,\n",
       "  'Native American/Native Alaskan': 917,\n",
       "  'White': 66237}]"
      ]
     },
     "execution_count": 6,
     "metadata": {},
     "output_type": "execute_result"
    }
   ],
   "source": [
    "races = [row[7] for row in data]\n",
    "race_counts = {}\n",
    "for race in races:\n",
    "    if race in race_counts:\n",
    "        race_counts[race] += 1\n",
    "    else:\n",
    "        race_counts[race] = 1\n",
    "\n",
    "[race_counts]"
   ]
  },
  {
   "cell_type": "markdown",
   "metadata": {
    "collapsed": true
   },
   "source": [
    "## Findings\n",
    "Gun deaths in the US seem to disproportionately affect men vs women. They also seem to disproportionately affect minorities, although having some data on the percentage of each race in the overall US population would help.\n",
    "\n",
    "There appears to be a minor seasonal correlation, with gun deaths peaking in the summer and declining in the winter. It might be useful to filter by intent, to see if different categories of intent have different correlations with season, race, or gender."
   ]
  },
  {
   "cell_type": "markdown",
   "metadata": {},
   "source": [
    "We explored gun deaths by race. However, our analysis only gives us the total number of gun deaths by race in the US. Unless we know the proportion of each race in the US, we won't be able to meaningfully compare those numbers. What we really want to get is a rate of gun deaths per 100000 people of each race. In order to do this, we'll need to read in data about what percentage of the US population falls into each racial category.\n"
   ]
  },
  {
   "cell_type": "code",
   "execution_count": 7,
   "metadata": {
    "scrolled": false
   },
   "outputs": [
    {
     "data": {
      "text/plain": [
       "[[['Id',\n",
       "   'Year',\n",
       "   'Id',\n",
       "   'Sex',\n",
       "   'Id',\n",
       "   'Hispanic Origin',\n",
       "   'Id',\n",
       "   'Id2',\n",
       "   'Geography',\n",
       "   'Total',\n",
       "   'Race Alone - White',\n",
       "   'Race Alone - Hispanic',\n",
       "   'Race Alone - Black or African American',\n",
       "   'Race Alone - American Indian and Alaska Native',\n",
       "   'Race Alone - Asian',\n",
       "   'Race Alone - Native Hawaiian and Other Pacific Islander',\n",
       "   'Two or More Races'],\n",
       "  ['cen42010',\n",
       "   'April 1, 2010 Census',\n",
       "   'totsex',\n",
       "   'Both Sexes',\n",
       "   'tothisp',\n",
       "   'Total',\n",
       "   '0100000US',\n",
       "   '',\n",
       "   'United States',\n",
       "   '308745538',\n",
       "   '197318956',\n",
       "   '44618105',\n",
       "   '40250635',\n",
       "   '3739506',\n",
       "   '15159516',\n",
       "   '674625',\n",
       "   '6984195']]]"
      ]
     },
     "execution_count": 7,
     "metadata": {},
     "output_type": "execute_result"
    }
   ],
   "source": [
    "census = list(csv.reader(open('census.csv', 'r')))\n",
    "[census]"
   ]
  },
  {
   "cell_type": "markdown",
   "metadata": {},
   "source": [
    "Earlier, we computed the number of gun deaths per race, and created a dictionary, race_counts. In order to get from the raw counts of gun deaths by race to a rate of gun deaths per 100,000 people in each race, we'll need to divide the total number of gun deaths, extracted from \"data\", by the population of each race given to us by the census dataset.\n",
    "\n",
    "The racial categories in each dataset are named differently, so first we need to manually construct a dictionary that will allow us to map between the 2 datasets and calculate the rate of gun deaths per 100,000 people in each race.\n"
   ]
  },
  {
   "cell_type": "code",
   "execution_count": 8,
   "metadata": {},
   "outputs": [
    {
     "data": {
      "text/plain": [
       "[{'Asian/Pacific Islander': 8.374309664161762,\n",
       "  'Black': 57.8773477735196,\n",
       "  'Hispanic': 20.220491210910907,\n",
       "  'Native American/Native Alaskan': 24.521955573811088,\n",
       "  'White': 33.56849303419181}]"
      ]
     },
     "execution_count": 8,
     "metadata": {},
     "output_type": "execute_result"
    }
   ],
   "source": [
    "mapping = {\n",
    "    \"Native American/Native Alaskan\": 3739506,\n",
    "    \"Asian/Pacific Islander\": 15159516 + 674625,\n",
    "    \"Black\": 40250635,\n",
    "    \"Hispanic\": 44618105,\n",
    "    \"White\": 197318956\n",
    "}\n",
    "\n",
    "race_per_hundredk = {}\n",
    "for k, v in race_counts.items():\n",
    "    race_per_hundredk[k] = (v/mapping[k])*100000\n",
    "    \n",
    "[race_per_hundredk]\n",
    "    "
   ]
  },
  {
   "cell_type": "markdown",
   "metadata": {},
   "source": [
    "To determine what the gun-related murder rate per 100000 people in each racial category is, we will filter our results and restrict them to the \"Homicide\" intent."
   ]
  },
  {
   "cell_type": "code",
   "execution_count": 9,
   "metadata": {},
   "outputs": [
    {
     "data": {
      "text/plain": [
       "[{'Asian/Pacific Islander': 559,\n",
       "  'Black': 19510,\n",
       "  'Hispanic': 5634,\n",
       "  'Native American/Native Alaskan': 326,\n",
       "  'White': 9147}]"
      ]
     },
     "execution_count": 9,
     "metadata": {},
     "output_type": "execute_result"
    }
   ],
   "source": [
    "intents = [row[3] for row in data]\n",
    "homicide_race_counts = {}\n",
    "\n",
    "for i, race in enumerate(races):\n",
    "    if race not in homicide_race_counts:\n",
    "        homicide_race_counts[race] = 0\n",
    "    if intents[i] == \"Homicide\":\n",
    "        homicide_race_counts[race] += 1\n",
    "       \n",
    "[homicide_race_counts]"
   ]
  },
  {
   "cell_type": "code",
   "execution_count": 10,
   "metadata": {},
   "outputs": [
    {
     "data": {
      "text/plain": [
       "[{'Asian/Pacific Islander': 3.530346230970155,\n",
       "  'Black': 48.471284987180944,\n",
       "  'Hispanic': 12.627161104219914,\n",
       "  'Native American/Native Alaskan': 8.717729026240365,\n",
       "  'White': 4.6356417981453335}]"
      ]
     },
     "execution_count": 10,
     "metadata": {},
     "output_type": "execute_result"
    }
   ],
   "source": [
    "for k, v in homicide_race_counts.items():\n",
    "    race_per_hundredk[k] = (v/mapping[k])*100000\n",
    "    \n",
    "[race_per_hundredk]"
   ]
  },
  {
   "cell_type": "markdown",
   "metadata": {
    "collapsed": true
   },
   "source": [
    "## Findings\n",
    "\n",
    "It appears that gun related homicides in the US disproportionately affect people in the Black and Hispanic racial categories."
   ]
  },
  {
   "cell_type": "markdown",
   "metadata": {},
   "source": [
    "## Next Steps\n",
    "- The link between month and homicide rate.\n",
    "- Homicide rate by gender.\n",
    "- The rates of other intents by gender and race.\n",
    "- Gun death rates by location and education."
   ]
  }
 ],
 "metadata": {
  "kernelspec": {
   "display_name": "Python 3",
   "language": "python",
   "name": "python3"
  },
  "language_info": {
   "codemirror_mode": {
    "name": "ipython",
    "version": 3
   },
   "file_extension": ".py",
   "mimetype": "text/x-python",
   "name": "python",
   "nbconvert_exporter": "python",
   "pygments_lexer": "ipython3",
   "version": "3.6.1"
  }
 },
 "nbformat": 4,
 "nbformat_minor": 1
}
